{
 "cells": [
  {
   "cell_type": "markdown",
   "metadata": {
    "id": "eO-I1kc77xJm"
   },
   "source": [
    "The goal of this project is to build a model that can detect whether a person is wearing a mask or not. We will be downloading the data from kaggle and then building our model ."
   ]
  },
  {
   "cell_type": "markdown",
   "metadata": {
    "id": "IKbx2RrdZCxb"
   },
   "source": [
    "## Getting the Data"
   ]
  },
  {
   "cell_type": "markdown",
   "metadata": {
    "id": "Hd4So6oX8NYg"
   },
   "source": [
    "We start by getting the data. The data that we want is on kaggle and you can access it through this link: https://www.kaggle.com/omkargurav/face-mask-dataset "
   ]
  },
  {
   "cell_type": "code",
   "execution_count": null,
   "metadata": {
    "id": "u-3YUE3P_lfM"
   },
   "outputs": [],
   "source": [
    "import os"
   ]
  },
  {
   "cell_type": "code",
   "execution_count": null,
   "metadata": {
    "colab": {
     "base_uri": "https://localhost:8080/"
    },
    "id": "kIF-qBropPUR",
    "outputId": "83169083-ffc6-4ead-8f58-963fb8a503ce"
   },
   "outputs": [
    {
     "name": "stdout",
     "output_type": "stream",
     "text": [
      "Mounted at /content/gdrive\n"
     ]
    }
   ],
   "source": [
    "! pip install -q kaggle\n",
    "from google.colab import drive\n",
    "\n",
    "# mount your Google Drive\n",
    "drive.mount('/content/gdrive')"
   ]
  },
  {
   "cell_type": "code",
   "execution_count": null,
   "metadata": {
    "id": "nB1uOzig-070"
   },
   "outputs": [],
   "source": [
    "os.environ['KAGGLE_USERNAME']='x'         #kaggle username\n",
    "os.environ['KAGGLE_KEY']='4873647'  # kaggle password"
   ]
  },
  {
   "cell_type": "code",
   "execution_count": null,
   "metadata": {
    "colab": {
     "base_uri": "https://localhost:8080/"
    },
    "id": "ahVD6FQs-3J4",
    "outputId": "115925b2-816e-4c00-9777-e27fd721d213"
   },
   "outputs": [
    {
     "name": "stdout",
     "output_type": "stream",
     "text": [
      "Downloading face-mask-dataset.zip to /content\n",
      " 99% 162M/163M [00:07<00:00, 23.4MB/s]\n",
      "100% 163M/163M [00:07<00:00, 22.2MB/s]\n"
     ]
    }
   ],
   "source": [
    "!kaggle datasets download -d omkargurav/face-mask-dataset"
   ]
  },
  {
   "cell_type": "markdown",
   "metadata": {
    "id": "TAkJ7svY817m"
   },
   "source": [
    "Once the dataset is downloaded, it is going to be zipped, and in order to use it, you need to unzip it. Here you have the option of unzipping it in the environment or in your google drive."
   ]
  },
  {
   "cell_type": "code",
   "execution_count": null,
   "metadata": {
    "colab": {
     "base_uri": "https://localhost:8080/"
    },
    "id": "dJptr14zaY69",
    "outputId": "06e541b3-987f-44c1-864d-720459cd5607"
   },
   "outputs": [
    {
     "name": "stdout",
     "output_type": "stream",
     "text": [
      "done\n"
     ]
    }
   ],
   "source": [
    "#uploading the data\n",
    "\n",
    "from zipfile import ZipFile\n",
    "\n",
    "file_name='/content/face-mask-dataset.zip'\n",
    "\n",
    "with ZipFile(file_name,'r') as zip:\n",
    "  zip.extractall()\n",
    "  print(\"done\")"
   ]
  },
  {
   "cell_type": "markdown",
   "metadata": {
    "id": "cczbWO3Y9Iw9"
   },
   "source": [
    "## Importing the Libraries"
   ]
  },
  {
   "cell_type": "markdown",
   "metadata": {
    "id": "IVZIipSJ9KuF"
   },
   "source": [
    "Now, it is time to import the libraries that we need."
   ]
  },
  {
   "cell_type": "code",
   "execution_count": null,
   "metadata": {
    "id": "NkE4qfg4atXn"
   },
   "outputs": [],
   "source": [
    "import os\n",
    "import shutil\n",
    "import random\n",
    "import numpy as np\n",
    "from matplotlib import pyplot as plt\n",
    "import tensorflow as tf\n",
    "import cv2"
   ]
  },
  {
   "cell_type": "markdown",
   "metadata": {
    "id": "hq68f7v39PN0"
   },
   "source": [
    "If we look at the data that we extracted, we can see that it is located in 2 folders: with_mask and without_mask. What we need to do now, is to create a hierarchy of folders that would help us specify the training, validation, and testing data. In order to do this we will use the **os** and the **shutil** libraries that would help us creating folders, and moving images from a folder to another. In simple terms, the libraries helps us perform the same things that you do on your computer with your operating system, but in a programmatic way."
   ]
  },
  {
   "cell_type": "markdown",
   "metadata": {
    "id": "bqzUPQxD-gg3"
   },
   "source": [
    "The initial dataset contains a lot of images belonging to the 2 classes, what we will do is randomly sample from this dataset so that we reduce the training and the tuning time."
   ]
  },
  {
   "cell_type": "markdown",
   "metadata": {
    "id": "YZx3Kqwz-G-8"
   },
   "source": [
    "We need to have in our final directories the following:\n",
    "* Training: 500 images \"with_mask\", and 500 images \"without_mask\"\n",
    "* Validation: 100 images \"with_mask\", and 100 images \"without_mask\"\n",
    "* Testing: 50 images \"with_mask\", and 50 images \"without_mask\""
   ]
  },
  {
   "cell_type": "code",
   "execution_count": null,
   "metadata": {
    "id": "A_sEmJMtUTSO"
   },
   "outputs": [],
   "source": [
    "import os\n",
    "import random\n",
    "import shutil\n",
    "\n",
    "# Directory paths\n",
    "source_directory_with_mask = '/content/data/with_mask'\n",
    "source_directory_without_mask = '/content/data/without_mask'\n",
    "target_directory = '/content/data/new_dir'\n",
    "\n",
    "# Create the target directory if it doesn't exist\n",
    "if not os.path.exists(target_directory):\n",
    "    os.makedirs(target_directory)\n",
    "\n",
    "# Define the subdirectories for training, validation, and testing\n",
    "subdirectories = ['training', 'validation', 'testing']\n",
    "\n",
    "# Create the subdirectories within the target directory\n",
    "for subdir in subdirectories:\n",
    "    subdir_path = os.path.join(target_directory, subdir)\n",
    "    os.makedirs(subdir_path)\n",
    "    for class_name in ['with_mask', 'without_mask']:\n",
    "        class_path = os.path.join(subdir_path, class_name)\n",
    "        os.makedirs(class_path)\n",
    "\n",
    "# Function to move images from source to target directory\n",
    "def move_images(source_folder, target_folder, num_images):\n",
    "    image_files = os.listdir(source_folder)\n",
    "    random.shuffle(image_files)\n",
    "    for image_file in image_files[:num_images]:\n",
    "        source_path = os.path.join(source_folder, image_file)\n",
    "        target_path = os.path.join(target_folder, image_file)\n",
    "        shutil.move(source_path, target_path)\n",
    "\n",
    "# Move images to the training directory\n",
    "move_images(source_directory_with_mask, os.path.join(target_directory, 'training/with_mask'), 500)\n",
    "move_images(source_directory_without_mask, os.path.join(target_directory, 'training/without_mask'), 500)\n",
    "\n",
    "# Move images to the validation directory\n",
    "move_images(source_directory_with_mask, os.path.join(target_directory, 'validation/with_mask'), 100)\n",
    "move_images(source_directory_without_mask, os.path.join(target_directory, 'validation/without_mask'), 100)\n",
    "\n",
    "# Move images to the testing directory\n",
    "move_images(source_directory_with_mask, os.path.join(target_directory, 'testing/with_mask'), 50)\n",
    "move_images(source_directory_without_mask, os.path.join(target_directory, 'testing/without_mask'), 50)\n"
   ]
  },
  {
   "cell_type": "markdown",
   "metadata": {
    "id": "eeuYWpiY_0YW"
   },
   "source": [
    "## Inspecting the Dataset"
   ]
  },
  {
   "cell_type": "markdown",
   "metadata": {
    "id": "Rjlx8kX6_3p-"
   },
   "source": [
    "Now we will see some characteristics of our dataset."
   ]
  },
  {
   "cell_type": "markdown",
   "metadata": {
    "id": "Wth3dnmg-yS7"
   },
   "source": [
    "Define 3 variables: **training_path**, **validation_path**, and **testing_path** so that you can use them for the rest of the colab."
   ]
  },
  {
   "cell_type": "code",
   "execution_count": null,
   "metadata": {
    "id": "nKP-Vd1RdNyZ"
   },
   "outputs": [],
   "source": [
    "training_path ='/content/data/new_dir/training'\n",
    "validation_path ='/content/data/new_dir/validation'\n",
    "testing_path ='/content/data/new_dir/testing'"
   ]
  },
  {
   "cell_type": "markdown",
   "metadata": {
    "id": "oFHTXqnNdxD5"
   },
   "source": [
    "To make sure that everythinh went correctly,we will write a code that counts the number of images that we have in our training directory for each of the 2 categories: with_mask and without_mask"
   ]
  },
  {
   "cell_type": "code",
   "execution_count": null,
   "metadata": {
    "colab": {
     "base_uri": "https://localhost:8080/"
    },
    "id": "hi7CNUQJF9t1",
    "outputId": "4640cd62-65cb-4b8d-a987-3b679905d049"
   },
   "outputs": [
    {
     "name": "stdout",
     "output_type": "stream",
     "text": [
      "Number of images with mask: 500\n",
      "Number of images without mask: 500\n"
     ]
    }
   ],
   "source": [
    "with_mask_dir = os.path.join(training_path, 'with_mask')\n",
    "without_mask_dir = os.path.join(training_path, 'without_mask')\n",
    "\n",
    "# Count images with mask\n",
    "num_with_mask = len(os.listdir(with_mask_dir))\n",
    "\n",
    "# Count images without mask\n",
    "num_without_mask = len(os.listdir(without_mask_dir))\n",
    "\n",
    "# Print the results\n",
    "print(\"Number of images with mask:\", num_with_mask)\n",
    "print(\"Number of images without mask:\", num_without_mask)"
   ]
  },
  {
   "cell_type": "markdown",
   "metadata": {
    "id": "hyzAUzdv_bZt"
   },
   "source": [
    "Do the same for the validation and the testing folders"
   ]
  },
  {
   "cell_type": "code",
   "execution_count": null,
   "metadata": {
    "colab": {
     "base_uri": "https://localhost:8080/"
    },
    "id": "hqG4ccgkeJW5",
    "outputId": "cbea521b-79ef-4cd2-b60c-f8799906c3c3"
   },
   "outputs": [
    {
     "name": "stdout",
     "output_type": "stream",
     "text": [
      "Number of images with mask: 50\n",
      "Number of images without mask: 50\n"
     ]
    }
   ],
   "source": [
    "with_mask_dir = os.path.join(testing_path, 'with_mask')\n",
    "without_mask_dir = os.path.join(testing_path, 'without_mask')\n",
    "\n",
    "# Count images with mask\n",
    "num_with_mask = len(os.listdir(with_mask_dir))\n",
    "\n",
    "# Count images without mask\n",
    "num_without_mask = len(os.listdir(without_mask_dir))\n",
    "\n",
    "# Print the results\n",
    "print(\"Number of images with mask:\", num_with_mask)\n",
    "print(\"Number of images without mask:\", num_without_mask)"
   ]
  },
  {
   "cell_type": "code",
   "execution_count": null,
   "metadata": {
    "colab": {
     "base_uri": "https://localhost:8080/"
    },
    "id": "JNLWyW9wJYQo",
    "outputId": "cf648e49-a233-4105-9af4-4f63839a15b3"
   },
   "outputs": [
    {
     "name": "stdout",
     "output_type": "stream",
     "text": [
      "Number of images with mask: 100\n",
      "Number of images without mask: 100\n"
     ]
    }
   ],
   "source": [
    "with_mask_dir = os.path.join(validation_path, 'with_mask')\n",
    "without_mask_dir = os.path.join(validation_path, 'without_mask')\n",
    "\n",
    "# Count images with mask\n",
    "num_with_mask = len(os.listdir(with_mask_dir))\n",
    "\n",
    "# Count images without mask\n",
    "num_without_mask = len(os.listdir(without_mask_dir))\n",
    "\n",
    "# Print the results\n",
    "print(\"Number of images with mask:\", num_with_mask)\n",
    "print(\"Number of images without mask:\", num_without_mask)"
   ]
  },
  {
   "cell_type": "markdown",
   "metadata": {
    "id": "9Vi-F_KdetvQ"
   },
   "source": [
    "Write a code that shows 5 random images for people with mask from your training set."
   ]
  },
  {
   "cell_type": "code",
   "execution_count": null,
   "metadata": {
    "colab": {
     "base_uri": "https://localhost:8080/",
     "height": 145
    },
    "id": "TCHyMN7HV6rX",
    "outputId": "7b4fc25f-4b96-463a-bd92-7e859e1b3488"
   },
   "outputs": [
    {
     "data": {
      "image/png": "[encoded data removed]",
      "text/plain": [
       "<Figure size 640x480 with 5 Axes>"
      ]
     },
     "metadata": {},
     "output_type": "display_data"
    }
   ],
   "source": [
    "import os\n",
    "import random\n",
    "import matplotlib.pyplot as plt\n",
    "import matplotlib.image as mpimg\n",
    "import glob\n",
    "\n",
    "path = '/content/data/new_dir/training/with_mask'\n",
    "with_mask_images = glob.glob(os.path.join(path, 'with_mask_*.jpg'))\n",
    "\n",
    "# Shuffle the list of images\n",
    "random.shuffle(with_mask_images)\n",
    "\n",
    "num_images_to_display = 5\n",
    "\n",
    "# Display random images with masks\n",
    "for i in range(num_images_to_display):\n",
    "    # Check if there are enough images to display\n",
    "    if i >= len(with_mask_images):\n",
    "        break\n",
    "\n",
    "    image_path = with_mask_images[i]\n",
    "    img = mpimg.imread(image_path)\n",
    "\n",
    "    plt.subplot(1, num_images_to_display, i + 1)\n",
    "    plt.imshow(img)\n",
    "    plt.axis('off')\n",
    "\n",
    "plt.show()\n"
   ]
  },
  {
   "cell_type": "markdown",
   "metadata": {
    "id": "W6uTU5Pr_qJG"
   },
   "source": [
    "Do the same for people without mask."
   ]
  },
  {
   "cell_type": "code",
   "execution_count": null,
   "metadata": {
    "colab": {
     "base_uri": "https://localhost:8080/",
     "height": 151
    },
    "id": "xPITQ0-we0L2",
    "outputId": "de28e30b-a517-4df4-fc4f-6d446959296c"
   },
   "outputs": [
    {
     "data": {
      "image/png": "[encoded data removed]",
      "text/plain": [
       "<Figure size 640x480 with 5 Axes>"
      ]
     },
     "metadata": {},
     "output_type": "display_data"
    }
   ],
   "source": [
    "import os\n",
    "import random\n",
    "import matplotlib.pyplot as plt\n",
    "import matplotlib.image as mpimg\n",
    "import glob\n",
    "\n",
    "path = '/content/data/new_dir/training/without_mask'\n",
    "with_mask_images = glob.glob(os.path.join(path, 'without_mask_*.jpg'))\n",
    "\n",
    "# Shuffle the list of images\n",
    "random.shuffle(with_mask_images)\n",
    "\n",
    "num_images_to_display = 5\n",
    "\n",
    "# Display random images with masks\n",
    "for i in range(num_images_to_display):\n",
    "    # Check if there are enough images to display\n",
    "    if i >= len(with_mask_images):\n",
    "        break\n",
    "\n",
    "    image_path = with_mask_images[i]\n",
    "    img = mpimg.imread(image_path)\n",
    "\n",
    "    plt.subplot(1, num_images_to_display, i + 1)\n",
    "    plt.imshow(img)\n",
    "    plt.axis('off')\n",
    "\n",
    "plt.show()\n"
   ]
  },
  {
   "cell_type": "code",
   "execution_count": null,
   "metadata": {
    "id": "-8bgss87XB_2"
   },
   "outputs": [],
   "source": [
    "import imghdr\n",
    "from tensorflow.keras.models import Sequential\n",
    "from tensorflow.keras.layers import Conv2D, MaxPooling2D, Dense, Flatten, Dropout\n",
    "import tensorflow as tf\n",
    "from tensorflow import keras\n",
    "from tensorflow.keras import layers\n",
    "import tensorflow as tf\n",
    "from tensorflow.keras.preprocessing.image import load_img , img_to_array , ImageDataGenerator\n",
    "import numpy as np\n",
    "import matplotlib.pyplot as plt\n",
    "import matplotlib.image as mpimg\n",
    "from tensorflow.keras.models import Sequential, load_model\n",
    "from tensorflow.keras.layers import Activation, Conv2D, Dense, Dropout, GlobalAveragePooling2D\n",
    "from tensorflow.keras.preprocessing import image\n",
    "from tensorflow.keras.preprocessing.image import ImageDataGenerator\n",
    "from tensorflow.keras.regularizers import l1_l2\n",
    "from tensorflow.keras.optimizers import Adam\n",
    "from os import listdir\n",
    "from keras.callbacks import EarlyStopping\n",
    "import PIL\n",
    "import numpy as np\n",
    "import matplotlib.pyplot as plt\n",
    "import seaborn as sns\n",
    "from sklearn.metrics import confusion_matrix\n",
    "import matplotlib.pyplot as plt"
   ]
  },
  {
   "cell_type": "code",
   "execution_count": null,
   "metadata": {
    "colab": {
     "base_uri": "https://localhost:8080/"
    },
    "id": "CB95yERCq7DF",
    "outputId": "d53b1eb2-7264-426b-e8c2-7bb2ca28a1b5"
   },
   "outputs": [
    {
     "data": {
      "text/plain": [
       "['with_mask', 'without_mask']"
      ]
     },
     "execution_count": 15,
     "metadata": {},
     "output_type": "execute_result"
    }
   ],
   "source": [
    "from os import listdir\n",
    "C = sorted(listdir(training_path))\n",
    "C"
   ]
  },
  {
   "cell_type": "code",
   "execution_count": null,
   "metadata": {
    "colab": {
     "base_uri": "https://localhost:8080/"
    },
    "id": "jSgHHHHtW677",
    "outputId": "dd392491-f492-4470-e2f5-5f153b4ad35e"
   },
   "outputs": [
    {
     "name": "stdout",
     "output_type": "stream",
     "text": [
      "Found 1000 images belonging to 2 classes.\n",
      "Found 200 images belonging to 2 classes.\n",
      "Found 100 images belonging to 2 classes.\n"
     ]
    }
   ],
   "source": [
    "# Define data normalization settings for training data\n",
    "train_datagen = ImageDataGenerator(\n",
    "    rescale=1./255,\n",
    ")\n",
    "\n",
    "# Define data normalization settings for validation and testing data\n",
    "test_datagen = ImageDataGenerator(rescale=1./255)\n",
    "\n",
    "# Set up data generators for training, validation, and testing\n",
    "train_generator = train_datagen.flow_from_directory(\n",
    "    training_path,\n",
    "    classes=C,\n",
    "    target_size=(224,224),\n",
    "    batch_size=10,\n",
    "    class_mode='binary'\n",
    ")\n",
    "\n",
    "validation_generator = test_datagen.flow_from_directory(\n",
    "    validation_path,\n",
    "    target_size=(224,224),\n",
    "    classes=C,\n",
    "    batch_size=10,\n",
    "    class_mode='binary'\n",
    ")\n",
    "\n",
    "test_generator = test_datagen.flow_from_directory(\n",
    "    testing_path,\n",
    "    target_size=(224,224),\n",
    "    batch_size=10,\n",
    "    classes=C,\n",
    "    class_mode='binary',\n",
    "    shuffle=False                   ## Shuffle = False is important because we want to compare the predicted labels to the actual labels later on\n",
    ")"
   ]
  },
  {
   "cell_type": "code",
   "execution_count": null,
   "metadata": {
    "colab": {
     "base_uri": "https://localhost:8080/"
    },
    "id": "9ZurhiQzVY8a",
    "outputId": "aef1f28c-9e20-4426-cdab-8b565fc8c62b"
   },
   "outputs": [
    {
     "name": "stdout",
     "output_type": "stream",
     "text": [
      "{'with_mask': 0, 'without_mask': 1}\n"
     ]
    }
   ],
   "source": [
    "print(test_generator.class_indices)"
   ]
  },
  {
   "cell_type": "markdown",
   "metadata": {
    "id": "DPj5qb_U__x1"
   },
   "source": [
    "## Modeling"
   ]
  },
  {
   "cell_type": "markdown",
   "metadata": {
    "id": "YVGettmvADiN"
   },
   "source": [
    "Define a model structure that can deal with the images that we have to classify them between the 2 classes."
   ]
  },
  {
   "cell_type": "code",
   "execution_count": null,
   "metadata": {
    "id": "9yWW3IMRfSPg"
   },
   "outputs": [],
   "source": [
    "model = tf.keras.models.Sequential([\n",
    "    layers.Conv2D(96, (3, 3), padding='same', activation='relu', input_shape=(224,224, 3)),\n",
    "    layers.BatchNormalization(),\n",
    "    layers.Dropout(0.7),\n",
    "\n",
    "    layers.Conv2D(96, (3, 3), padding='same', activation='relu'),\n",
    "    layers.BatchNormalization(),\n",
    "    layers.MaxPooling2D(pool_size=(2, 2)),\n",
    "\n",
    "    layers.Conv2D(128, (3, 3), padding='same', activation='relu'),\n",
    "    layers.BatchNormalization(),\n",
    "    layers.Dropout(0.7),\n",
    "\n",
    "    layers.Conv2D(128, (3, 3), padding='same', activation='relu'),\n",
    "    layers.BatchNormalization(),\n",
    "    layers.MaxPooling2D(pool_size=(2, 2)),\n",
    "\n",
    "    layers.Dropout(0.5),\n",
    "    layers.Flatten(),\n",
    "    layers.Dense(256, activation='relu'),\n",
    "    layers.BatchNormalization(),\n",
    "    layers.Dense(1, activation='sigmoid')\n",
    "])\n",
    "\n",
    "\n",
    "model.compile(\n",
    "    optimizer='adam',\n",
    "    loss='binary_crossentropy',\n",
    "    metrics=['accuracy']\n",
    ")"
   ]
  },
  {
   "cell_type": "code",
   "execution_count": null,
   "metadata": {
    "colab": {
     "base_uri": "https://localhost:8080/"
    },
    "id": "If4rsxb3aOOO",
    "outputId": "db049683-d5bc-4e14-a54a-573398ac11f7"
   },
   "outputs": [
    {
     "name": "stdout",
     "output_type": "stream",
     "text": [
      "Model: \"sequential\"\n",
      "_________________________________________________________________\n",
      " Layer (type)                Output Shape              Param #   \n",
      "=================================================================\n",
      " conv2d (Conv2D)             (None, 224, 224, 96)      2688      \n",
      "                                                                 \n",
      " batch_normalization (BatchN  (None, 224, 224, 96)     384       \n",
      " ormalization)                                                   \n",
      "                                                                 \n",
      " dropout (Dropout)           (None, 224, 224, 96)      0         \n",
      "                                                                 \n",
      " conv2d_1 (Conv2D)           (None, 224, 224, 96)      83040     \n",
      "                                                                 \n",
      " batch_normalization_1 (Batc  (None, 224, 224, 96)     384       \n",
      " hNormalization)                                                 \n",
      "                                                                 \n",
      " max_pooling2d (MaxPooling2D  (None, 112, 112, 96)     0         \n",
      " )                                                               \n",
      "                                                                 \n",
      " conv2d_2 (Conv2D)           (None, 112, 112, 128)     110720    \n",
      "                                                                 \n",
      " batch_normalization_2 (Batc  (None, 112, 112, 128)    512       \n",
      " hNormalization)                                                 \n",
      "                                                                 \n",
      " dropout_1 (Dropout)         (None, 112, 112, 128)     0         \n",
      "                                                                 \n",
      " conv2d_3 (Conv2D)           (None, 112, 112, 128)     147584    \n",
      "                                                                 \n",
      " batch_normalization_3 (Batc  (None, 112, 112, 128)    512       \n",
      " hNormalization)                                                 \n",
      "                                                                 \n",
      " max_pooling2d_1 (MaxPooling  (None, 56, 56, 128)      0         \n",
      " 2D)                                                             \n",
      "                                                                 \n",
      " dropout_2 (Dropout)         (None, 56, 56, 128)       0         \n",
      "                                                                 \n",
      " flatten (Flatten)           (None, 401408)            0         \n",
      "                                                                 \n",
      " dense (Dense)               (None, 256)               102760704 \n",
      "                                                                 \n",
      " batch_normalization_4 (Batc  (None, 256)              1024      \n",
      " hNormalization)                                                 \n",
      "                                                                 \n",
      " dense_1 (Dense)             (None, 1)                 257       \n",
      "                                                                 \n",
      "=================================================================\n",
      "Total params: 103,107,809\n",
      "Trainable params: 103,106,401\n",
      "Non-trainable params: 1,408\n",
      "_________________________________________________________________\n"
     ]
    }
   ],
   "source": [
    "model.summary()"
   ]
  },
  {
   "cell_type": "markdown",
   "metadata": {
    "id": "HAV06Z6jAVpr"
   },
   "source": [
    "Train the model that we defined on the training data and evaluate it on the validation data.."
   ]
  },
  {
   "cell_type": "code",
   "execution_count": null,
   "metadata": {
    "colab": {
     "base_uri": "https://localhost:8080/"
    },
    "id": "tn8t0bw_faG5",
    "outputId": "e8b23bca-bd1b-42a5-d02b-3e27268ffe10"
   },
   "outputs": [
    {
     "name": "stdout",
     "output_type": "stream",
     "text": [
      "Epoch 1/25\n",
      "100/100 [==============================] - 26s 258ms/step - loss: 0.1884 - accuracy: 0.9260 - val_loss: 0.3309 - val_accuracy: 0.8900\n",
      "Epoch 2/25\n",
      "100/100 [==============================] - 25s 249ms/step - loss: 0.1748 - accuracy: 0.9260 - val_loss: 0.4905 - val_accuracy: 0.8050\n",
      "Epoch 3/25\n",
      "100/100 [==============================] - 25s 247ms/step - loss: 0.1511 - accuracy: 0.9450 - val_loss: 0.3713 - val_accuracy: 0.8800\n",
      "Epoch 4/25\n",
      "100/100 [==============================] - 25s 248ms/step - loss: 0.1115 - accuracy: 0.9620 - val_loss: 0.4459 - val_accuracy: 0.8450\n",
      "Epoch 5/25\n",
      "100/100 [==============================] - 26s 255ms/step - loss: 0.1329 - accuracy: 0.9570 - val_loss: 0.3292 - val_accuracy: 0.8850\n",
      "Epoch 6/25\n",
      "100/100 [==============================] - 25s 247ms/step - loss: 0.1978 - accuracy: 0.9180 - val_loss: 0.4259 - val_accuracy: 0.8450\n",
      "Epoch 7/25\n",
      "100/100 [==============================] - 25s 248ms/step - loss: 0.1410 - accuracy: 0.9470 - val_loss: 0.5316 - val_accuracy: 0.8050\n",
      "Epoch 8/25\n",
      "100/100 [==============================] - 26s 261ms/step - loss: 0.1462 - accuracy: 0.9440 - val_loss: 0.3981 - val_accuracy: 0.8650\n",
      "Epoch 9/25\n",
      "100/100 [==============================] - 25s 251ms/step - loss: 0.1401 - accuracy: 0.9530 - val_loss: 0.3714 - val_accuracy: 0.8500\n",
      "Epoch 10/25\n",
      "100/100 [==============================] - 26s 263ms/step - loss: 0.1262 - accuracy: 0.9640 - val_loss: 0.5012 - val_accuracy: 0.8200\n",
      "Epoch 11/25\n",
      "100/100 [==============================] - 25s 251ms/step - loss: 0.1284 - accuracy: 0.9530 - val_loss: 0.5494 - val_accuracy: 0.8200\n"
     ]
    }
   ],
   "source": [
    "BATCH_SIZE=10\n",
    "early_stop = EarlyStopping(monitor='val_loss', patience=6, restore_best_weights=True, mode='min')\n",
    "history = model.fit(\n",
    "    train_generator,\n",
    "    epochs=25,\n",
    "    steps_per_epoch=train_generator.samples // BATCH_SIZE,\n",
    "    validation_data=validation_generator,\n",
    "    validation_steps=validation_generator.samples // BATCH_SIZE,\n",
    "    callbacks=[early_stop],\n",
    "    verbose=True\n",
    ")"
   ]
  },
  {
   "cell_type": "markdown",
   "metadata": {
    "id": "tAiKTV53A2ec"
   },
   "source": [
    "Plot the accuracy curve and see if our model is overfitting."
   ]
  },
  {
   "cell_type": "code",
   "execution_count": null,
   "metadata": {
    "colab": {
     "base_uri": "https://localhost:8080/",
     "height": 843
    },
    "id": "1aWwGDqhkI2e",
    "outputId": "1641b08c-c2f3-47fc-a07d-942133ea99fc"
   },
   "outputs": [
    {
     "data": {
      "image/png": "[encoded data removed]",
      "text/plain": [
       "<Figure size 640x480 with 1 Axes>"
      ]
     },
     "metadata": {},
     "output_type": "display_data"
    },
    {
     "data": {
      "image/png": "[encoded data removed]",
      "text/plain": [
       "<Figure size 640x480 with 1 Axes>"
      ]
     },
     "metadata": {},
     "output_type": "display_data"
    }
   ],
   "source": [
    "plt.plot(history.history['accuracy'],color='red',label='train')\n",
    "plt.plot(history.history['val_accuracy'],color='blue',label='validation')\n",
    "plt.legend()\n",
    "plt.show()\n",
    "\n",
    "train_loss = history.history['loss']\n",
    "val_loss = history.history['val_loss']\n",
    "\n",
    "# Filter values less than 1\n",
    "train_loss_filtered = [loss for loss in train_loss if loss < 3]\n",
    "val_loss_filtered = [loss for loss in val_loss if loss < 3]\n",
    "\n",
    "# Plot filtered loss values\n",
    "plt.plot(train_loss_filtered, color='red', label='train')\n",
    "plt.plot(val_loss_filtered, color='blue', label='validation')\n",
    "plt.legend()\n",
    "plt.show()"
   ]
  },
  {
   "cell_type": "markdown",
   "metadata": {
    "id": "6cAWm-s8G6zK"
   },
   "source": [
    "[The model is overfitting the training accuracy is higher than the validation accuracy and the validation loss is higher than the training loss]"
   ]
  },
  {
   "cell_type": "markdown",
   "metadata": {
    "id": "_fRIBKwJBF5u"
   },
   "source": [
    "## Evaluate the model\n"
   ]
  },
  {
   "cell_type": "markdown",
   "metadata": {
    "id": "iMqNRhWABId9"
   },
   "source": [
    "Now we will evaluate the model that we built on the testing set ."
   ]
  },
  {
   "cell_type": "code",
   "execution_count": null,
   "metadata": {
    "colab": {
     "base_uri": "https://localhost:8080/"
    },
    "id": "5p37Z1_Bfq3l",
    "outputId": "5f0ed3f9-d1d7-4682-df70-b3924f7760ed"
   },
   "outputs": [
    {
     "name": "stdout",
     "output_type": "stream",
     "text": [
      "10/10 [==============================] - 1s 55ms/step - loss: 0.2805 - accuracy: 0.8900\n",
      "Loss: 0.28045886754989624\n",
      "Accuracy: 0.8899999856948853\n"
     ]
    }
   ],
   "source": [
    "loss, accuracy = model.evaluate(test_generator)\n",
    "print(\"Loss:\", loss)\n",
    "print(\"Accuracy:\", accuracy)"
   ]
  },
  {
   "cell_type": "markdown",
   "metadata": {
    "id": "iNu4dgkvBTer"
   },
   "source": [
    "Now we want to visualize the confusion matrix in order to see how much our classifier is good in predicting different classes."
   ]
  },
  {
   "cell_type": "code",
   "execution_count": null,
   "metadata": {
    "colab": {
     "base_uri": "https://localhost:8080/"
    },
    "id": "R14IskIA35dJ",
    "outputId": "37b20092-3215-4b7d-8711-868e6895e3f4"
   },
   "outputs": [
    {
     "name": "stdout",
     "output_type": "stream",
     "text": [
      "10/10 [==============================] - 1s 55ms/step\n",
      "[0, 0, 0, 0, 0, 0, 0, 0, 0, 1, 0, 0, 0, 0, 1, 0, 0, 0, 1, 0, 0, 0, 0, 0, 1, 0, 0, 0, 0, 0, 0, 0, 0, 1, 0, 0, 0, 1, 0, 0, 0, 0, 0, 0, 0, 1, 0, 0, 0, 0, 1, 1, 1, 1, 1, 1, 1, 1, 1, 1, 1, 1, 1, 0, 1, 1, 1, 1, 1, 1, 1, 1, 1, 1, 1, 1, 0, 1, 1, 1, 1, 1, 1, 1, 1, 1, 0, 1, 1, 1, 1, 1, 1, 1, 1, 1, 1, 1, 1, 0]\n"
     ]
    }
   ],
   "source": [
    "predictions = model.predict(test_generator)\n",
    "\n",
    "# Apply a threshold to the predicted probabilities\n",
    "threshold = 0.5  # Modify the threshold as needed\n",
    "y_pred = [1 if prediction >= threshold else 0 for prediction in predictions]\n",
    "\n",
    "print(y_pred)"
   ]
  },
  {
   "cell_type": "code",
   "execution_count": null,
   "metadata": {
    "id": "rx7D_knNykgh"
   },
   "outputs": [],
   "source": [
    "from sklearn.metrics import classification_report"
   ]
  },
  {
   "cell_type": "code",
   "execution_count": null,
   "metadata": {
    "colab": {
     "base_uri": "https://localhost:8080/"
    },
    "id": "EVsRRh-fy7xE",
    "outputId": "d4131269-1a9c-4d2a-ac3f-51996e482fc9"
   },
   "outputs": [
    {
     "name": "stdout",
     "output_type": "stream",
     "text": [
      "[0 0 0 0 0 0 0 0 0 0 0 0 0 0 0 0 0 0 0 0 0 0 0 0 0 0 0 0 0 0 0 0 0 0 0 0 0\n",
      " 0 0 0 0 0 0 0 0 0 0 0 0 0 1 1 1 1 1 1 1 1 1 1 1 1 1 1 1 1 1 1 1 1 1 1 1 1\n",
      " 1 1 1 1 1 1 1 1 1 1 1 1 1 1 1 1 1 1 1 1 1 1 1 1 1 1]\n"
     ]
    }
   ],
   "source": [
    "true_classes = test_generator.classes  #Test generator labels\n",
    "print(true_classes)"
   ]
  },
  {
   "cell_type": "code",
   "execution_count": null,
   "metadata": {
    "colab": {
     "base_uri": "https://localhost:8080/",
     "height": 333
    },
    "id": "VG7DB60wlIHJ",
    "outputId": "2896638c-2c74-4bdf-a5a2-76d32e32191b"
   },
   "outputs": [
    {
     "data": {
      "image/png": "[encoded data removed]",
      "text/plain": [
       "<Figure size 400x300 with 2 Axes>"
      ]
     },
     "metadata": {},
     "output_type": "display_data"
    }
   ],
   "source": [
    "# Generate the confusion matrix\n",
    "cm = confusion_matrix(true_classes, y_pred)\n",
    "\n",
    "# Get the class labels from the data generator\n",
    "class_labels = list(test_generator.class_indices.keys())\n",
    "\n",
    "# Plot the confusion matrix\n",
    "plt.figure(figsize=(4, 3))\n",
    "sns.heatmap(cm, annot=True, fmt='d', cmap='Blues', xticklabels=class_labels, yticklabels=class_labels)\n",
    "plt.title('Confusion Matrix')\n",
    "plt.xlabel('Predicted Labels')\n",
    "plt.ylabel('True Labels')\n",
    "plt.show()"
   ]
  },
  {
   "cell_type": "code",
   "execution_count": null,
   "metadata": {
    "colab": {
     "base_uri": "https://localhost:8080/"
    },
    "id": "6_ne8XJBodYc",
    "outputId": "e4ae884a-6d1e-44ce-e8c4-389d12c16c2c"
   },
   "outputs": [
    {
     "name": "stdout",
     "output_type": "stream",
     "text": [
      "              precision    recall  f1-score   support\n",
      "\n",
      "   with_mask       0.91      0.86      0.89        50\n",
      "without_mask       0.87      0.92      0.89        50\n",
      "\n",
      "    accuracy                           0.89       100\n",
      "   macro avg       0.89      0.89      0.89       100\n",
      "weighted avg       0.89      0.89      0.89       100\n",
      "\n"
     ]
    }
   ],
   "source": [
    "class_labels = list(test_generator.class_indices.keys())\n",
    "report = classification_report(true_classes, y_pred, target_names=class_labels)\n",
    "print(report)"
   ]
  },
  {
   "cell_type": "code",
   "execution_count": null,
   "metadata": {
    "colab": {
     "base_uri": "https://localhost:8080/"
    },
    "id": "M6b-MJ9rz_CK",
    "outputId": "af241ee5-26fd-4a97-86c4-6063a819c17b"
   },
   "outputs": [
    {
     "name": "stdout",
     "output_type": "stream",
     "text": [
      "Precision: 0.8679245283018868\n",
      "Recall: 0.92\n",
      "F1 Score: 0.8932038834951457\n"
     ]
    }
   ],
   "source": [
    "from sklearn.metrics import precision_score, recall_score, f1_score\n",
    "\n",
    "precision = precision_score(true_classes, y_pred)\n",
    "recall = recall_score(true_classes, y_pred)\n",
    "f1 = f1_score(true_classes, y_pred)\n",
    "\n",
    "# Print the results\n",
    "print(\"Precision:\", precision)\n",
    "print(\"Recall:\", recall)\n",
    "print(\"F1 Score:\", f1)"
   ]
  },
  {
   "cell_type": "markdown",
   "metadata": {
    "id": "aJRsOeq6CPjI"
   },
   "source": [
    "## Error Analysis"
   ]
  },
  {
   "cell_type": "markdown",
   "metadata": {
    "id": "HB_1-IMZCTT3"
   },
   "source": [
    "Now we need to see for each of the images that we have in our testing set, what did the model predict. This helps us analyze the errors and try to think why the model predicted some things in the wrong way."
   ]
  },
  {
   "cell_type": "code",
   "execution_count": null,
   "metadata": {
    "colab": {
     "base_uri": "https://localhost:8080/"
    },
    "id": "27vNIr4PDwfg",
    "outputId": "9ac7f332-081a-42f0-9937-a4aa9dcc2328"
   },
   "outputs": [
    {
     "name": "stdout",
     "output_type": "stream",
     "text": [
      "1/1 [==============================] - 0s 20ms/step\n",
      "1/1 [==============================] - 0s 22ms/step\n",
      "1/1 [==============================] - 0s 19ms/step\n",
      "1/1 [==============================] - 0s 19ms/step\n",
      "1/1 [==============================] - 0s 22ms/step\n",
      "1/1 [==============================] - 0s 18ms/step\n",
      "1/1 [==============================] - 0s 20ms/step\n",
      "1/1 [==============================] - 0s 19ms/step\n",
      "1/1 [==============================] - 0s 19ms/step\n",
      "1/1 [==============================] - 0s 19ms/step\n",
      "1/1 [==============================] - 0s 18ms/step\n",
      "1/1 [==============================] - 0s 20ms/step\n",
      "1/1 [==============================] - 0s 20ms/step\n",
      "1/1 [==============================] - 0s 18ms/step\n",
      "1/1 [==============================] - 0s 21ms/step\n",
      "1/1 [==============================] - 0s 18ms/step\n",
      "1/1 [==============================] - 0s 18ms/step\n",
      "1/1 [==============================] - 0s 19ms/step\n",
      "1/1 [==============================] - 0s 19ms/step\n",
      "1/1 [==============================] - 0s 19ms/step\n",
      "1/1 [==============================] - 0s 21ms/step\n",
      "1/1 [==============================] - 0s 23ms/step\n",
      "1/1 [==============================] - 0s 18ms/step\n",
      "1/1 [==============================] - 0s 18ms/step\n",
      "1/1 [==============================] - 0s 20ms/step\n",
      "1/1 [==============================] - 0s 21ms/step\n",
      "1/1 [==============================] - 0s 24ms/step\n",
      "1/1 [==============================] - 0s 24ms/step\n",
      "1/1 [==============================] - 0s 30ms/step\n",
      "1/1 [==============================] - 0s 35ms/step\n",
      "1/1 [==============================] - 0s 35ms/step\n",
      "1/1 [==============================] - 0s 30ms/step\n",
      "1/1 [==============================] - 0s 30ms/step\n",
      "1/1 [==============================] - 0s 29ms/step\n",
      "1/1 [==============================] - 0s 33ms/step\n",
      "1/1 [==============================] - 0s 30ms/step\n",
      "1/1 [==============================] - 0s 33ms/step\n",
      "1/1 [==============================] - 0s 43ms/step\n",
      "1/1 [==============================] - 0s 29ms/step\n",
      "1/1 [==============================] - 0s 30ms/step\n",
      "1/1 [==============================] - 0s 28ms/step\n",
      "1/1 [==============================] - 0s 42ms/step\n",
      "1/1 [==============================] - 0s 30ms/step\n",
      "1/1 [==============================] - 0s 28ms/step\n",
      "1/1 [==============================] - 0s 36ms/step\n",
      "1/1 [==============================] - 0s 28ms/step\n",
      "1/1 [==============================] - 0s 27ms/step\n",
      "1/1 [==============================] - 0s 26ms/step\n",
      "1/1 [==============================] - 0s 37ms/step\n",
      "1/1 [==============================] - 0s 27ms/step\n",
      "1/1 [==============================] - 0s 31ms/step\n",
      "1/1 [==============================] - 0s 30ms/step\n",
      "1/1 [==============================] - 0s 31ms/step\n",
      "1/1 [==============================] - 0s 29ms/step\n",
      "1/1 [==============================] - 0s 30ms/step\n",
      "1/1 [==============================] - 0s 32ms/step\n",
      "1/1 [==============================] - 0s 30ms/step\n",
      "1/1 [==============================] - 0s 28ms/step\n",
      "1/1 [==============================] - 0s 34ms/step\n",
      "1/1 [==============================] - 0s 28ms/step\n",
      "1/1 [==============================] - 0s 33ms/step\n",
      "1/1 [==============================] - 0s 27ms/step\n",
      "1/1 [==============================] - 0s 31ms/step\n",
      "1/1 [==============================] - 0s 31ms/step\n",
      "1/1 [==============================] - 0s 33ms/step\n",
      "1/1 [==============================] - 0s 34ms/step\n",
      "1/1 [==============================] - 0s 19ms/step\n",
      "1/1 [==============================] - 0s 18ms/step\n",
      "1/1 [==============================] - 0s 18ms/step\n",
      "1/1 [==============================] - 0s 20ms/step\n",
      "1/1 [==============================] - 0s 19ms/step\n",
      "1/1 [==============================] - 0s 21ms/step\n",
      "1/1 [==============================] - 0s 18ms/step\n",
      "1/1 [==============================] - 0s 20ms/step\n",
      "1/1 [==============================] - 0s 22ms/step\n",
      "1/1 [==============================] - 0s 20ms/step\n",
      "1/1 [==============================] - 0s 20ms/step\n",
      "1/1 [==============================] - 0s 20ms/step\n",
      "1/1 [==============================] - 0s 20ms/step\n",
      "1/1 [==============================] - 0s 22ms/step\n",
      "1/1 [==============================] - 0s 19ms/step\n",
      "1/1 [==============================] - 0s 19ms/step\n",
      "1/1 [==============================] - 0s 17ms/step\n",
      "1/1 [==============================] - 0s 19ms/step\n",
      "1/1 [==============================] - 0s 19ms/step\n",
      "1/1 [==============================] - 0s 19ms/step\n",
      "1/1 [==============================] - 0s 20ms/step\n",
      "1/1 [==============================] - 0s 19ms/step\n",
      "1/1 [==============================] - 0s 20ms/step\n",
      "1/1 [==============================] - 0s 20ms/step\n",
      "1/1 [==============================] - 0s 23ms/step\n",
      "1/1 [==============================] - 0s 18ms/step\n",
      "1/1 [==============================] - 0s 20ms/step\n",
      "1/1 [==============================] - 0s 19ms/step\n",
      "1/1 [==============================] - 0s 22ms/step\n",
      "1/1 [==============================] - 0s 32ms/step\n",
      "1/1 [==============================] - 0s 23ms/step\n",
      "1/1 [==============================] - 0s 26ms/step\n",
      "1/1 [==============================] - 0s 25ms/step\n",
      "1/1 [==============================] - 0s 21ms/step\n"
     ]
    }
   ],
   "source": [
    "# Assigning label names to the corresponding indexes\n",
    "labels = {\n",
    "    0: 'with_mask',\n",
    "    1: 'without_mask',\n",
    "}\n",
    "\n",
    "# Loading images and their predictions\n",
    "prediction = []\n",
    "original = []\n",
    "image = []\n",
    "\n",
    "for folder in os.listdir(testing_path):\n",
    "    for item in os.listdir(os.path.join(testing_path, folder)):\n",
    "        # Code to open the image\n",
    "        img = PIL.Image.open(os.path.join(testing_path, folder, item))\n",
    "        # Resizing the image to (224, 224)\n",
    "        img = img.resize((224, 224))\n",
    "        # Appending image to the image list\n",
    "        image.append(img)\n",
    "        # Converting image to array\n",
    "        img_array = np.asarray(img, dtype=np.float32)\n",
    "        # Normalizing the image\n",
    "        img_array /= 255.0\n",
    "        # Reshaping the image to a 4D array\n",
    "        img_array = img_array.reshape(1, 224, 224, 3)\n",
    "        # Making prediction of the model\n",
    "        predictions = model.predict(img_array)\n",
    "        threshold = 0.5  # Modify the threshold as needed\n",
    "        y_pred1 = [1 if prediction >= threshold else 0 for prediction in predictions]\n",
    "        # Appending the predicted class to the list\n",
    "        prediction.append(labels[y_pred1[0]])\n",
    "        # Appending the original class to the list\n",
    "        original.append(folder)\n"
   ]
  },
  {
   "cell_type": "code",
   "execution_count": null,
   "metadata": {
    "colab": {
     "base_uri": "https://localhost:8080/",
     "height": 1000
    },
    "id": "nIFgVg3fEt4E",
    "outputId": "d9d0f909-1e0d-4afe-df62-7d35783d9c9c"
   },
   "outputs": [],
   "source": [
    "fig, axes = plt.subplots(len(image), 2, figsize=(10, 200))\n",
    "for i, ax in enumerate(axes):\n",
    "    ax[0].imshow(image[i])\n",
    "    ax[0].axis('off')\n",
    "    ax[0].set_title(\"Image\")\n",
    "\n",
    "    ax[1].axis('off')\n",
    "    ax[1].text(0.5, 0.5, \"True: \" + original[i] + \"\\nPredicted: \" + prediction[i], fontsize=12, ha='center')\n",
    "\n",
    "plt.tight_layout()\n",
    "plt.show()"
   ]
  },
  {
   "cell_type": "markdown",
   "metadata": {
    "id": "eyBmndK8FSHP"
   },
   "source": [
    "**Try to derive some conclusions from the wrong predictions that your model has made. Meaning: why do you think these predictions were wrong?**"
   ]
  },
  {
   "cell_type": "markdown",
   "metadata": {
    "id": "aLz1shcxFkzX"
   },
   "source": [
    "[There are many reasons why the predictions are wrong : 1: The model is overfitting , 2 : We don't have enough training data, we only have 1000 training images (500 for each class) , 3: The 2 classes are similar they both represent human faces in both categories (They both have  ears , eyes , hair , shape of face ...) so the features extracted from the input images may not be discriminative enough to differentiate between the two classes thats why we the model have difficulties differentiating between with_mask and without_mask.]"
   ]
  },
  {
   "cell_type": "markdown",
   "metadata": {
    "id": "ZExRfjMlEDTq"
   },
   "source": [
    "**Think of a way that you can use in order to improve the performance of your model, and implement it**"
   ]
  },
  {
   "cell_type": "markdown",
   "metadata": {
    "id": "AhzWWXDhGcsu"
   },
   "source": [
    "[Data Augmentation]"
   ]
  },
  {
   "cell_type": "code",
   "execution_count": null,
   "metadata": {
    "colab": {
     "base_uri": "https://localhost:8080/"
    },
    "id": "po5LgPwx7Rcm",
    "outputId": "d85c08d4-0646-4d34-e59b-1aa7ca5019cf"
   },
   "outputs": [
    {
     "name": "stdout",
     "output_type": "stream",
     "text": [
      "Found 1000 images belonging to 2 classes.\n",
      "Found 200 images belonging to 2 classes.\n",
      "Found 100 images belonging to 2 classes.\n"
     ]
    }
   ],
   "source": [
    "train_datagen = ImageDataGenerator(\n",
    "    rescale=1./255,\n",
    "    rotation_range=30,\n",
    "    width_shift_range=.05,\n",
    "    height_shift_range=.05,\n",
    "    horizontal_flip=True,\n",
    "    zoom_range=0.3\n",
    ")\n",
    "\n",
    "# For test data we only rescale the data.\n",
    "# Never augment test data!!!\n",
    "test_datagen = ImageDataGenerator(rescale=1./255)\n",
    "\n",
    "\n",
    "# Train generator\n",
    "train_generator = train_datagen.flow_from_directory(\n",
    "    training_path,\n",
    "    target_size=(224, 224),\n",
    "    batch_size=32,\n",
    "    class_mode='binary'\n",
    ")\n",
    "validation_generator = test_datagen.flow_from_directory(\n",
    "    validation_path,\n",
    "    target_size=(224,224),\n",
    "    batch_size=32,\n",
    "    class_mode='binary'\n",
    ")\n",
    "\n",
    "test_generator = test_datagen.flow_from_directory(\n",
    "    testing_path,\n",
    "    target_size=(224,224),\n",
    "    batch_size=32,\n",
    "    class_mode='binary',\n",
    "    shuffle=False\n",
    ")"
   ]
  },
  {
   "cell_type": "code",
   "execution_count": null,
   "metadata": {
    "colab": {
     "base_uri": "https://localhost:8080/"
    },
    "id": "jEa961BgGLTL",
    "outputId": "4da6e663-e094-49b5-d43f-e283993ad8fd"
   },
   "outputs": [
    {
     "data": {
      "text/plain": [
       "{'with_mask': 0, 'without_mask': 1}"
      ]
     },
     "execution_count": 16,
     "metadata": {},
     "output_type": "execute_result"
    }
   ],
   "source": [
    "train_generator.class_indices"
   ]
  },
  {
   "cell_type": "code",
   "execution_count": null,
   "metadata": {
    "id": "kZDF2M557Rhz"
   },
   "outputs": [],
   "source": [
    "import tensorflow as tf\n",
    "from tensorflow.keras.models import Sequential\n",
    "from tensorflow.keras.layers import Conv2D, MaxPool2D, Flatten, Dense, Dropout\n",
    "\n",
    "model = Sequential()\n",
    "\n",
    "model.add(Conv2D(filters=64, kernel_size=3, strides=1, activation=\"relu\", input_shape=(224, 224, 3)))\n",
    "model.add(Conv2D(filters=64, kernel_size=3, strides=1, activation=\"relu\"))\n",
    "model.add(MaxPool2D(pool_size=(2, 2), strides=(2, 2), padding=\"same\"))\n",
    "\n",
    "model.add(Conv2D(filters=128, kernel_size=3, strides=1, activation=\"relu\"))\n",
    "model.add(Conv2D(filters=128, kernel_size=3, strides=1, activation=\"relu\"))\n",
    "model.add(MaxPool2D(pool_size=(2, 2), strides=(2, 2), padding=\"same\"))\n",
    "\n",
    "model.add(Conv2D(filters=256, kernel_size=3, strides=1, activation=\"relu\"))\n",
    "model.add(MaxPool2D(pool_size=(2, 2), strides=(2, 2), padding=\"same\"))\n",
    "\n",
    "model.add(Conv2D(filters=512, kernel_size=3, strides=1, activation=\"relu\"))\n",
    "model.add(MaxPool2D(pool_size=(2, 2), strides=(2, 2), padding=\"same\"))\n",
    "\n",
    "model.add(Flatten())\n",
    "\n",
    "model.add(Dense(units=512, activation=\"relu\"))\n",
    "model.add(Dropout(0.5))\n",
    "model.add(Dense(units=1024, activation=\"relu\"))\n",
    "model.add(Dropout(0.5))\n",
    "model.add(Dense(units=1, activation=\"sigmoid\"))\n",
    "\n",
    "model.compile(optimizer=\"adam\", loss=\"binary_crossentropy\", metrics=[\"binary_accuracy\"])"
   ]
  },
  {
   "cell_type": "code",
   "execution_count": null,
   "metadata": {
    "colab": {
     "base_uri": "https://localhost:8080/"
    },
    "id": "C-0Cec8S7Rnj",
    "outputId": "6e170008-ffcd-4c02-bd70-f222d97252dd"
   },
   "outputs": [
    {
     "name": "stdout",
     "output_type": "stream",
     "text": [
      "Model: \"sequential_2\"\n",
      "_________________________________________________________________\n",
      " Layer (type)                Output Shape              Param #   \n",
      "=================================================================\n",
      " conv2d_8 (Conv2D)           (None, 222, 222, 64)      1792      \n",
      "                                                                 \n",
      " conv2d_9 (Conv2D)           (None, 220, 220, 64)      36928     \n",
      "                                                                 \n",
      " max_pooling2d_4 (MaxPooling  (None, 110, 110, 64)     0         \n",
      " 2D)                                                             \n",
      "                                                                 \n",
      " conv2d_10 (Conv2D)          (None, 108, 108, 128)     73856     \n",
      "                                                                 \n",
      " conv2d_11 (Conv2D)          (None, 106, 106, 128)     147584    \n",
      "                                                                 \n",
      " max_pooling2d_5 (MaxPooling  (None, 53, 53, 128)      0         \n",
      " 2D)                                                             \n",
      "                                                                 \n",
      " conv2d_12 (Conv2D)          (None, 51, 51, 256)       295168    \n",
      "                                                                 \n",
      " max_pooling2d_6 (MaxPooling  (None, 26, 26, 256)      0         \n",
      " 2D)                                                             \n",
      "                                                                 \n",
      " conv2d_13 (Conv2D)          (None, 24, 24, 512)       1180160   \n",
      "                                                                 \n",
      " max_pooling2d_7 (MaxPooling  (None, 12, 12, 512)      0         \n",
      " 2D)                                                             \n",
      "                                                                 \n",
      " flatten_2 (Flatten)         (None, 73728)             0         \n",
      "                                                                 \n",
      " dense_4 (Dense)             (None, 512)               37749248  \n",
      "                                                                 \n",
      " dropout_6 (Dropout)         (None, 512)               0         \n",
      "                                                                 \n",
      " dense_5 (Dense)             (None, 1024)              525312    \n",
      "                                                                 \n",
      " dropout_7 (Dropout)         (None, 1024)              0         \n",
      "                                                                 \n",
      " dense_6 (Dense)             (None, 1)                 1025      \n",
      "                                                                 \n",
      "=================================================================\n",
      "Total params: 40,011,073\n",
      "Trainable params: 40,011,073\n",
      "Non-trainable params: 0\n",
      "_________________________________________________________________\n"
     ]
    }
   ],
   "source": [
    "model.summary()"
   ]
  },
  {
   "cell_type": "code",
   "execution_count": null,
   "metadata": {
    "colab": {
     "base_uri": "https://localhost:8080/"
    },
    "id": "lD1VqP4e7RqM",
    "outputId": "51dd5e61-a4ff-44e1-f033-d92dd6eb62a8"
   },
   "outputs": [
    {
     "name": "stdout",
     "output_type": "stream",
     "text": [
      "Epoch 1/50\n",
      "31/31 [==============================] - ETA: 0s - loss: 0.7175 - binary_accuracy: 0.5517"
     ]
    },
    {
     "name": "stderr",
     "output_type": "stream",
     "text": [
      "/usr/local/lib/python3.10/dist-packages/PIL/Image.py:975: UserWarning: Palette images with Transparency expressed in bytes should be converted to RGBA images\n",
      "  warnings.warn(\n"
     ]
    },
    {
     "name": "stdout",
     "output_type": "stream",
     "text": [
      "\b\b\b\b\b\b\b\b\b\b\b\b\b\b\b\b\b\b\b\b\b\b\b\b\b\b\b\b\b\b\b\b\b\b\b\b\b\b\b\b\b\b\b\b\b\b\b\b\b\b\b\b\b\b\b\b\b\b\b\b\b\b\b\b\b\b\b\b\b\b\b\b\b\b\b\b\b\b\b\b\b\b\b\b\b\b\b\b\b\r",
      "31/31 [==============================] - 32s 683ms/step - loss: 0.7175 - binary_accuracy: 0.5517 - val_loss: 0.6740 - val_binary_accuracy: 0.5990\n",
      "Epoch 2/50\n",
      "31/31 [==============================] - 17s 539ms/step - loss: 0.6249 - binary_accuracy: 0.6890 - val_loss: 0.4581 - val_binary_accuracy: 0.8438\n",
      "Epoch 3/50\n",
      "31/31 [==============================] - 19s 625ms/step - loss: 0.4431 - binary_accuracy: 0.8068 - val_loss: 0.3818 - val_binary_accuracy: 0.8281\n",
      "Epoch 4/50\n",
      "31/31 [==============================] - 16s 515ms/step - loss: 0.3624 - binary_accuracy: 0.8574 - val_loss: 0.3646 - val_binary_accuracy: 0.8333\n",
      "Epoch 5/50\n",
      "31/31 [==============================] - 16s 526ms/step - loss: 0.3504 - binary_accuracy: 0.8458 - val_loss: 0.3643 - val_binary_accuracy: 0.8594\n",
      "Epoch 6/50\n",
      "31/31 [==============================] - 21s 679ms/step - loss: 0.3533 - binary_accuracy: 0.8574 - val_loss: 0.3419 - val_binary_accuracy: 0.8542\n",
      "Epoch 7/50\n",
      "31/31 [==============================] - 17s 546ms/step - loss: 0.3210 - binary_accuracy: 0.8657 - val_loss: 0.3094 - val_binary_accuracy: 0.8646\n",
      "Epoch 8/50\n",
      "31/31 [==============================] - 16s 529ms/step - loss: 0.2871 - binary_accuracy: 0.8895 - val_loss: 0.3244 - val_binary_accuracy: 0.8646\n",
      "Epoch 9/50\n",
      "31/31 [==============================] - 17s 539ms/step - loss: 0.3002 - binary_accuracy: 0.8791 - val_loss: 0.3087 - val_binary_accuracy: 0.8646\n",
      "Epoch 10/50\n",
      "31/31 [==============================] - 16s 517ms/step - loss: 0.2699 - binary_accuracy: 0.8936 - val_loss: 0.3200 - val_binary_accuracy: 0.8906\n",
      "Epoch 11/50\n",
      "31/31 [==============================] - 17s 536ms/step - loss: 0.2395 - binary_accuracy: 0.9101 - val_loss: 0.2674 - val_binary_accuracy: 0.8958\n",
      "Epoch 12/50\n",
      "31/31 [==============================] - 17s 546ms/step - loss: 0.2594 - binary_accuracy: 0.8874 - val_loss: 0.3185 - val_binary_accuracy: 0.8646\n",
      "Epoch 13/50\n",
      "31/31 [==============================] - 17s 533ms/step - loss: 0.2694 - binary_accuracy: 0.9050 - val_loss: 0.3315 - val_binary_accuracy: 0.8802\n",
      "Epoch 14/50\n",
      "31/31 [==============================] - 17s 559ms/step - loss: 0.2815 - binary_accuracy: 0.8926 - val_loss: 0.2820 - val_binary_accuracy: 0.9115\n",
      "Epoch 15/50\n",
      "31/31 [==============================] - 18s 553ms/step - loss: 0.2649 - binary_accuracy: 0.9112 - val_loss: 0.2439 - val_binary_accuracy: 0.9167\n",
      "Epoch 16/50\n",
      "31/31 [==============================] - 16s 515ms/step - loss: 0.2523 - binary_accuracy: 0.9132 - val_loss: 0.2436 - val_binary_accuracy: 0.9010\n",
      "Epoch 17/50\n",
      "31/31 [==============================] - 16s 515ms/step - loss: 0.2580 - binary_accuracy: 0.9184 - val_loss: 0.2780 - val_binary_accuracy: 0.9010\n",
      "Epoch 18/50\n",
      "31/31 [==============================] - 17s 549ms/step - loss: 0.2232 - binary_accuracy: 0.9163 - val_loss: 0.2730 - val_binary_accuracy: 0.8958\n",
      "Epoch 19/50\n",
      "31/31 [==============================] - 16s 512ms/step - loss: 0.2316 - binary_accuracy: 0.9308 - val_loss: 0.2595 - val_binary_accuracy: 0.9062\n",
      "Epoch 20/50\n",
      "31/31 [==============================] - 16s 520ms/step - loss: 0.2179 - binary_accuracy: 0.9214 - val_loss: 0.2463 - val_binary_accuracy: 0.9167\n",
      "Epoch 21/50\n",
      "31/31 [==============================] - 18s 571ms/step - loss: 0.2658 - binary_accuracy: 0.9029 - val_loss: 0.2858 - val_binary_accuracy: 0.9062\n",
      "Epoch 22/50\n",
      "31/31 [==============================] - 16s 523ms/step - loss: 0.2171 - binary_accuracy: 0.9132 - val_loss: 0.2498 - val_binary_accuracy: 0.9271\n"
     ]
    }
   ],
   "source": [
    "BATCH_SIZE=32\n",
    "early_stop = EarlyStopping(monitor='val_loss', patience=6, restore_best_weights=True, mode='min')\n",
    "history = model.fit(\n",
    "    train_generator,\n",
    "    epochs=50,\n",
    "    steps_per_epoch=train_generator.samples // BATCH_SIZE,\n",
    "    validation_data=validation_generator,\n",
    "    validation_steps=validation_generator.samples // BATCH_SIZE,\n",
    "    callbacks=[early_stop],\n",
    "    verbose=True\n",
    ")"
   ]
  },
  {
   "cell_type": "code",
   "execution_count": null,
   "metadata": {
    "colab": {
     "base_uri": "https://localhost:8080/",
     "height": 843
    },
    "id": "x-ckNTp87RsV",
    "outputId": "9a709b45-7cfb-486e-f742-6627098cae96"
   },
   "outputs": [
    {
     "data": {
      "image/png": "[encoded data removed]",
      "text/plain": [
       "<Figure size 640x480 with 1 Axes>"
      ]
     },
     "metadata": {},
     "output_type": "display_data"
    },
    {
     "data": {
      "image/png": "[encoded data removed]",
      "text/plain": [
       "<Figure size 640x480 with 1 Axes>"
      ]
     },
     "metadata": {},
     "output_type": "display_data"
    }
   ],
   "source": [
    "plt.plot(history.history['binary_accuracy'],color='red',label='train')\n",
    "plt.plot(history.history['val_binary_accuracy'],color='blue',label='validation')\n",
    "plt.legend()\n",
    "plt.show()\n",
    "plt.plot(history.history['loss'],color='red',label='train')\n",
    "plt.plot(history.history['val_loss'],color='blue',label='validation')\n",
    "plt.legend()\n",
    "plt.show()"
   ]
  },
  {
   "cell_type": "code",
   "execution_count": null,
   "metadata": {
    "colab": {
     "base_uri": "https://localhost:8080/"
    },
    "id": "kzsiSvwY7Run",
    "outputId": "5d361a0d-c3b0-4653-f68c-66443dcde865"
   },
   "outputs": [
    {
     "name": "stdout",
     "output_type": "stream",
     "text": [
      "4/4 [==============================] - 1s 341ms/step - loss: 0.2306 - binary_accuracy: 0.9000\n",
      "Loss: 0.2305750846862793\n",
      "Accuracy: 0.8999999761581421\n"
     ]
    }
   ],
   "source": [
    "loss, accuracy = model.evaluate(test_generator)\n",
    "print(\"Loss:\", loss)\n",
    "print(\"Accuracy:\", accuracy)"
   ]
  },
  {
   "cell_type": "markdown",
   "metadata": {
    "id": "PM11k_M8Op-m"
   },
   "source": [
    "As we can see our testing accuracy increased after we did data augmentation.There is no overfitting."
   ]
  },
  {
   "cell_type": "code",
   "execution_count": null,
   "metadata": {
    "colab": {
     "base_uri": "https://localhost:8080/"
    },
    "id": "C9TbEoGmjnxb",
    "outputId": "2eff0486-9bf7-41bd-835e-03bcb9ac55d1"
   },
   "outputs": [
    {
     "name": "stdout",
     "output_type": "stream",
     "text": [
      "4/4 [==============================] - 1s 148ms/step\n",
      "[0, 0, 0, 0, 0, 1, 0, 0, 0, 0, 0, 0, 0, 0, 0, 0, 0, 0, 0, 0, 0, 0, 0, 1, 1, 1, 0, 0, 0, 0, 0, 0, 0, 1, 0, 0, 0, 0, 1, 0, 0, 0, 0, 0, 0, 0, 1, 0, 0, 0, 1, 1, 1, 1, 1, 1, 1, 1, 1, 1, 1, 1, 1, 1, 1, 1, 1, 1, 1, 0, 1, 1, 1, 1, 1, 1, 1, 1, 1, 1, 1, 1, 1, 0, 1, 1, 0, 1, 1, 1, 1, 1, 1, 1, 1, 1, 1, 1, 1, 1]\n"
     ]
    }
   ],
   "source": [
    "predictions = model.predict(test_generator)\n",
    "\n",
    "# Apply a threshold to the predicted probabilities\n",
    "threshold = 0.5  # Modify the threshold as needed\n",
    "y_pred = [1 if prediction >= threshold else 0 for prediction in predictions]\n",
    "\n",
    "print(y_pred)"
   ]
  },
  {
   "cell_type": "code",
   "execution_count": null,
   "metadata": {
    "colab": {
     "base_uri": "https://localhost:8080/"
    },
    "id": "axH9A7uEg9zr",
    "outputId": "1a67190c-4ac1-4180-8c5e-c8c99cc73c32"
   },
   "outputs": [
    {
     "name": "stdout",
     "output_type": "stream",
     "text": [
      "[0 0 0 0 0 0 0 0 0 0 0 0 0 0 0 0 0 0 0 0 0 0 0 0 0 0 0 0 0 0 0 0 0 0 0 0 0\n",
      " 0 0 0 0 0 0 0 0 0 0 0 0 0 1 1 1 1 1 1 1 1 1 1 1 1 1 1 1 1 1 1 1 1 1 1 1 1\n",
      " 1 1 1 1 1 1 1 1 1 1 1 1 1 1 1 1 1 1 1 1 1 1 1 1 1 1]\n"
     ]
    }
   ],
   "source": [
    "true_classes = test_generator.classes\n",
    "print(true_classes)"
   ]
  },
  {
   "cell_type": "code",
   "execution_count": null,
   "metadata": {
    "colab": {
     "base_uri": "https://localhost:8080/"
    },
    "id": "U0eKaUQlgqpx",
    "outputId": "30ef04bf-01b1-4b52-f740-ea6cb4c0a46a"
   },
   "outputs": [
    {
     "name": "stdout",
     "output_type": "stream",
     "text": [
      "              precision    recall  f1-score   support\n",
      "\n",
      "   with_mask       0.93      0.86      0.90        50\n",
      "without_mask       0.87      0.94      0.90        50\n",
      "\n",
      "    accuracy                           0.90       100\n",
      "   macro avg       0.90      0.90      0.90       100\n",
      "weighted avg       0.90      0.90      0.90       100\n",
      "\n"
     ]
    }
   ],
   "source": [
    "class_labels = list(test_generator.class_indices.keys())\n",
    "report = classification_report(true_classes, y_pred, target_names=class_labels)\n",
    "print(report)"
   ]
  },
  {
   "cell_type": "code",
   "execution_count": null,
   "metadata": {
    "colab": {
     "base_uri": "https://localhost:8080/"
    },
    "id": "vR1UupDpgA6X",
    "outputId": "d04998ca-5c07-453b-9a3c-ebeb6bf06984"
   },
   "outputs": [
    {
     "data": {
      "text/plain": [
       "['with_mask', 'without_mask']"
      ]
     },
     "execution_count": 129,
     "metadata": {},
     "output_type": "execute_result"
    }
   ],
   "source": [
    "class_labels = list(test_generator.class_indices.keys())\n",
    "class_labels"
   ]
  },
  {
   "cell_type": "code",
   "execution_count": null,
   "metadata": {
    "colab": {
     "base_uri": "https://localhost:8080/",
     "height": 333
    },
    "id": "vMJZ7UEH7Rw-",
    "outputId": "c0c5aa83-6a9e-4abd-fa5e-3dbf8fdea865"
   },
   "outputs": [
    {
     "data": {
      "image/png": "[encoded data removed]",
      "text/plain": [
       "<Figure size 400x300 with 2 Axes>"
      ]
     },
     "metadata": {},
     "output_type": "display_data"
    }
   ],
   "source": [
    "# Generate the confusion matrix\n",
    "cm = confusion_matrix(true_classes, y_pred)\n",
    "\n",
    "# Get the class labels from the data generator\n",
    "class_labels = list(test_generator.class_indices.keys())\n",
    "\n",
    "# Plot the confusion matrix\n",
    "plt.figure(figsize=(4, 3))\n",
    "sns.heatmap(cm, annot=True, fmt='d', cmap='Blues', xticklabels=class_labels, yticklabels=class_labels)\n",
    "plt.title('Confusion Matrix')\n",
    "plt.xlabel('Predicted Labels')\n",
    "plt.ylabel('True Labels')\n",
    "plt.show()\n"
   ]
  },
  {
   "cell_type": "markdown",
   "metadata": {
    "id": "YEViy_u2Ybcd"
   },
   "source": [
    "We only have 10 missclassified images"
   ]
  },
  {
   "cell_type": "markdown",
   "metadata": {
    "id": "5R8tee97OUIL"
   },
   "source": [
    "### We can try to further improve our model using keras tuner for hyperparameter tuning"
   ]
  },
  {
   "cell_type": "code",
   "execution_count": null,
   "metadata": {
    "colab": {
     "base_uri": "https://localhost:8080/"
    },
    "id": "7KdpxL6rJVYl",
    "outputId": "a9488e28-e6ab-4fbe-a8cb-8a931021ba0d"
   },
   "outputs": [
    {
     "name": "stdout",
     "output_type": "stream",
     "text": [
      "Looking in indexes: https://pypi.org/simple, https://us-python.pkg.dev/colab-wheels/public/simple/\n",
      "Collecting keras-tuner\n",
      "  Downloading keras_tuner-1.3.5-py3-none-any.whl (176 kB)\n",
      "\u001b[2K     \u001b[90m━━━━━━━━━━━━━━━━━━━━━━━━━━━━━━━━━━━━━━━\u001b[0m \u001b[32m176.1/176.1 kB\u001b[0m \u001b[31m7.8 MB/s\u001b[0m eta \u001b[36m0:00:00\u001b[0m\n",
      "\u001b[?25hRequirement already satisfied: packaging in /usr/local/lib/python3.10/dist-packages (from keras-tuner) (23.1)\n",
      "Requirement already satisfied: requests in /usr/local/lib/python3.10/dist-packages (from keras-tuner) (2.27.1)\n",
      "Collecting kt-legacy (from keras-tuner)\n",
      "  Downloading kt_legacy-1.0.5-py3-none-any.whl (9.6 kB)\n",
      "Requirement already satisfied: urllib3<1.27,>=1.21.1 in /usr/local/lib/python3.10/dist-packages (from requests->keras-tuner) (1.26.15)\n",
      "Requirement already satisfied: certifi>=2017.4.17 in /usr/local/lib/python3.10/dist-packages (from requests->keras-tuner) (2022.12.7)\n",
      "Requirement already satisfied: charset-normalizer~=2.0.0 in /usr/local/lib/python3.10/dist-packages (from requests->keras-tuner) (2.0.12)\n",
      "Requirement already satisfied: idna<4,>=2.5 in /usr/local/lib/python3.10/dist-packages (from requests->keras-tuner) (3.4)\n",
      "Installing collected packages: kt-legacy, keras-tuner\n",
      "Successfully installed keras-tuner-1.3.5 kt-legacy-1.0.5\n"
     ]
    }
   ],
   "source": [
    "pip install -U keras-tuner\n"
   ]
  },
  {
   "cell_type": "code",
   "execution_count": null,
   "metadata": {
    "colab": {
     "base_uri": "https://localhost:8080/"
    },
    "id": "oyRrtq3sl0k8",
    "outputId": "c07a07c3-f1d0-47a4-c8cd-cb6c19fa15df"
   },
   "outputs": [
    {
     "name": "stdout",
     "output_type": "stream",
     "text": [
      "Trial 12 Complete [00h 02m 12s]\n",
      "val_binary_accuracy: 0.5\n",
      "\n",
      "Best val_binary_accuracy So Far: 0.925000011920929\n",
      "Total elapsed time: 00h 38m 23s\n"
     ]
    }
   ],
   "source": [
    "import tensorflow as tf\n",
    "from tensorflow.keras.models import Sequential\n",
    "from tensorflow.keras.layers import Conv2D, MaxPool2D, Flatten, Dense, Dropout\n",
    "from tensorflow.keras.preprocessing.image import ImageDataGenerator\n",
    "from kerastuner.tuners import RandomSearch\n",
    "from tensorflow.keras.callbacks import EarlyStopping\n",
    "\n",
    "# Define the model-building function\n",
    "def build_model2(hp):\n",
    "    model = Sequential()\n",
    "\n",
    "    model.add(Conv2D(filters=hp.Int('conv1_filters', min_value=64, max_value=128, step=32),\n",
    "                     kernel_size=3, strides=1, activation='relu', input_shape=(224, 224, 3)))\n",
    "    model.add(Conv2D(filters=hp.Int('conv2_filters', min_value=64, max_value=128, step=32),\n",
    "                     kernel_size=3, strides=1, activation='relu'))\n",
    "    model.add(MaxPool2D(pool_size=(2, 2), strides=(2, 2), padding='same'))\n",
    "\n",
    "    model.add(Conv2D(filters=128, kernel_size=3, strides=1, activation=\"relu\"))\n",
    "    model.add(Conv2D(filters=128, kernel_size=3, strides=1, activation=\"relu\"))\n",
    "    model.add(MaxPool2D(pool_size=(2, 2), strides=(2, 2), padding=\"same\"))\n",
    "\n",
    "    model.add(Conv2D(filters=256, kernel_size=3, strides=1, activation=\"relu\"))\n",
    "    model.add(Conv2D(filters=hp.Int('conv3_filters', min_value=256, max_value=512, step=128),\n",
    "                     kernel_size=3, strides=1, activation='relu'))\n",
    "    model.add(Conv2D(filters=hp.Int('conv4_filters', min_value=512, max_value=1024, step=256),\n",
    "                     kernel_size=3, strides=1, activation='relu'))\n",
    "\n",
    "    model.add(MaxPool2D(pool_size=(2, 2), strides=(2, 2), padding=\"same\"))\n",
    "\n",
    "    model.add(Flatten())\n",
    "\n",
    "    model.add(Dense(units=hp.Int('dense_units1', min_value=256, max_value=768, step=256), activation='relu'))\n",
    "    model.add(Dropout(rate=hp.Float('dropout1', min_value=0.2, max_value=0.8, step=0.3)))\n",
    "    model.add(Dense(units=hp.Int('dense_units2', min_value=512, max_value=1024, step=512), activation='relu'))\n",
    "    model.add(Dropout(rate=hp.Float('dropout2', min_value=0.2, max_value=0.8, step=0.3)))\n",
    "    model.add(Dense(units=1, activation='sigmoid'))\n",
    "\n",
    "    model.compile(optimizer='adam', loss='binary_crossentropy', metrics=['binary_accuracy'])\n",
    "\n",
    "    return model\n",
    "\n",
    "# Define the tuner\n",
    "tuner = RandomSearch(\n",
    "    build_model2,\n",
    "    objective='val_binary_accuracy',\n",
    "    max_trials=12,\n",
    "    executions_per_trial=1,\n",
    ")\n",
    "\n",
    "# Perform hyperparameter tuning\n",
    "tuner.search(\n",
    "    train_generator,\n",
    "    epochs=25,\n",
    "    validation_data=validation_generator,\n",
    "    callbacks=[EarlyStopping(monitor='val_binary_accuracy', patience=4)]  # Add the early stopping callback to the fit function\n",
    ")\n",
    "\n",
    "# Get the best model and summary of the search\n",
    "best_model = tuner.get_best_models(num_models=1)[0]"
   ]
  },
  {
   "cell_type": "code",
   "execution_count": null,
   "metadata": {
    "colab": {
     "base_uri": "https://localhost:8080/"
    },
    "id": "eOLhkv4N_3Eh",
    "outputId": "09a1bef2-3fcd-4d22-fcaa-9bfec12a1f5d"
   },
   "outputs": [
    {
     "name": "stdout",
     "output_type": "stream",
     "text": [
      "Epoch 1/25\n",
      "31/31 [==============================] - 20s 639ms/step - loss: 0.1963 - binary_accuracy: 0.9215 - val_loss: 0.1300 - val_binary_accuracy: 0.9531\n",
      "Epoch 2/25\n",
      "31/31 [==============================] - 21s 676ms/step - loss: 0.2095 - binary_accuracy: 0.9287 - val_loss: 0.1488 - val_binary_accuracy: 0.9271\n",
      "Epoch 3/25\n",
      "31/31 [==============================] - 20s 637ms/step - loss: 0.1893 - binary_accuracy: 0.9236 - val_loss: 0.1461 - val_binary_accuracy: 0.9375\n",
      "Epoch 4/25\n",
      "31/31 [==============================] - 20s 646ms/step - loss: 0.2071 - binary_accuracy: 0.9184 - val_loss: 0.1742 - val_binary_accuracy: 0.9271\n",
      "Epoch 5/25\n",
      "31/31 [==============================] - 22s 709ms/step - loss: 0.1990 - binary_accuracy: 0.9246 - val_loss: 0.1393 - val_binary_accuracy: 0.9479\n",
      "Epoch 6/25\n",
      "31/31 [==============================] - 21s 659ms/step - loss: 0.1534 - binary_accuracy: 0.9401 - val_loss: 0.0974 - val_binary_accuracy: 0.9688\n",
      "Epoch 7/25\n",
      "31/31 [==============================] - 20s 642ms/step - loss: 0.1578 - binary_accuracy: 0.9370 - val_loss: 0.1091 - val_binary_accuracy: 0.9583\n",
      "Epoch 8/25\n",
      "31/31 [==============================] - 22s 694ms/step - loss: 0.1696 - binary_accuracy: 0.9339 - val_loss: 0.1284 - val_binary_accuracy: 0.9375\n",
      "Epoch 9/25\n",
      "31/31 [==============================] - 21s 650ms/step - loss: 0.1824 - binary_accuracy: 0.9355 - val_loss: 0.1892 - val_binary_accuracy: 0.9219\n",
      "Epoch 10/25\n",
      "31/31 [==============================] - 20s 637ms/step - loss: 0.1820 - binary_accuracy: 0.9256 - val_loss: 0.1998 - val_binary_accuracy: 0.8958\n",
      "Epoch 11/25\n",
      "31/31 [==============================] - 20s 651ms/step - loss: 0.1779 - binary_accuracy: 0.9349 - val_loss: 0.1253 - val_binary_accuracy: 0.9531\n",
      "Epoch 12/25\n",
      "31/31 [==============================] - 21s 654ms/step - loss: 0.1677 - binary_accuracy: 0.9421 - val_loss: 0.1179 - val_binary_accuracy: 0.9583\n"
     ]
    },
    {
     "data": {
      "text/plain": [
       "<keras.callbacks.History at 0x7fa166713bb0>"
      ]
     },
     "execution_count": 42,
     "metadata": {},
     "output_type": "execute_result"
    }
   ],
   "source": [
    "BATCH_SIZE =32\n",
    "# Define the early stopping callback\n",
    "early_stopping = EarlyStopping(monitor='val_loss', patience=6)\n",
    "\n",
    "best_model.fit(\n",
    "    train_generator,\n",
    "    epochs=25,\n",
    "    steps_per_epoch=train_generator.samples // BATCH_SIZE,\n",
    "    validation_data=validation_generator,\n",
    "    validation_steps=validation_generator.samples // BATCH_SIZE,\n",
    "    callbacks=[early_stopping]  # Add the early stopping callback to the fit function\n",
    ")"
   ]
  },
  {
   "cell_type": "code",
   "execution_count": null,
   "metadata": {
    "colab": {
     "base_uri": "https://localhost:8080/"
    },
    "id": "DYa9Yxbw_3Ip",
    "outputId": "2b33c6ea-2847-40e0-8c96-f86e0283ff13"
   },
   "outputs": [
    {
     "name": "stderr",
     "output_type": "stream",
     "text": [
      "/usr/local/lib/python3.10/dist-packages/PIL/Image.py:975: UserWarning: Palette images with Transparency expressed in bytes should be converted to RGBA images\n",
      "  warnings.warn(\n"
     ]
    },
    {
     "name": "stdout",
     "output_type": "stream",
     "text": [
      "4/4 [==============================] - 1s 102ms/step - loss: 0.0925 - binary_accuracy: 0.9900\n"
     ]
    }
   ],
   "source": [
    "# Evaluate the best model on the test set\n",
    "loss, accuracy = best_model.evaluate(test_generator)"
   ]
  },
  {
   "cell_type": "code",
   "execution_count": null,
   "metadata": {
    "colab": {
     "base_uri": "https://localhost:8080/"
    },
    "id": "ktZszCLr_3Lh",
    "outputId": "0b7b201f-2f3b-4234-a92e-88deb7ff1cf2"
   },
   "outputs": [
    {
     "name": "stdout",
     "output_type": "stream",
     "text": [
      "4/4 [==============================] - 1s 130ms/step\n",
      "[0, 0, 0, 0, 0, 0, 0, 0, 0, 0, 0, 0, 0, 0, 0, 0, 0, 0, 0, 0, 0, 0, 0, 0, 0, 0, 0, 0, 0, 0, 0, 0, 0, 0, 0, 0, 0, 0, 0, 0, 0, 0, 0, 0, 0, 0, 1, 0, 0, 0, 1, 1, 1, 1, 1, 1, 1, 1, 1, 1, 1, 1, 1, 1, 1, 1, 1, 1, 1, 1, 1, 1, 1, 1, 1, 1, 1, 1, 1, 1, 1, 1, 1, 1, 1, 1, 1, 1, 1, 1, 1, 1, 1, 1, 1, 1, 1, 1, 1, 1]\n"
     ]
    }
   ],
   "source": [
    "predictions = best_model.predict(test_generator)\n",
    "\n",
    "# Apply a threshold to the predicted probabilities\n",
    "threshold = 0.5  # Modify the threshold as needed\n",
    "y_pred = [1 if prediction >= threshold else 0 for prediction in predictions]\n",
    "\n",
    "print(y_pred)"
   ]
  },
  {
   "cell_type": "code",
   "execution_count": null,
   "metadata": {
    "colab": {
     "base_uri": "https://localhost:8080/",
     "height": 333
    },
    "id": "BgIUVz8tCl0T",
    "outputId": "8115154d-a721-4593-cc8d-66084fc16e64"
   },
   "outputs": [
    {
     "data": {
      "image/png": "[encoded data removed]",
      "text/plain": [
       "<Figure size 400x300 with 2 Axes>"
      ]
     },
     "metadata": {},
     "output_type": "display_data"
    }
   ],
   "source": [
    "# Generate the confusion matrix\n",
    "cm = confusion_matrix(true_classes, y_pred)\n",
    "\n",
    "# Get the class labels from the data generator\n",
    "class_labels = list(test_generator.class_indices.keys())\n",
    "\n",
    "# Plot the confusion matrix\n",
    "plt.figure(figsize=(4, 3))\n",
    "sns.heatmap(cm, annot=True, fmt='d', cmap='Blues', xticklabels=class_labels, yticklabels=class_labels)\n",
    "plt.title('Confusion Matrix')\n",
    "plt.xlabel('Predicted Labels')\n",
    "plt.ylabel('True Labels')\n",
    "plt.show()\n"
   ]
  },
  {
   "cell_type": "markdown",
   "metadata": {
    "id": "wUgsq-uvO8kU"
   },
   "source": [
    "Thats the best model that we got after data augmentation and hyperparameter tuning"
   ]
  }
 ],
 "metadata": {
  "accelerator": "GPU",
  "colab": {
   "gpuType": "T4",
   "provenance": []
  },
  "kernelspec": {
   "display_name": "Python 3 (ipykernel)",
   "language": "python",
   "name": "python3"
  },
  "language_info": {
   "codemirror_mode": {
    "name": "ipython",
    "version": 3
   },
   "file_extension": ".py",
   "mimetype": "text/x-python",
   "name": "python",
   "nbconvert_exporter": "python",
   "pygments_lexer": "ipython3",
   "version": "3.9.12"
  }
 },
 "nbformat": 4,
 "nbformat_minor": 1
}
